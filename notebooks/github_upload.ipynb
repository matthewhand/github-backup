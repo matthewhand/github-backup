{
  "nbformat": 4,
  "nbformat_minor": 5,
  "metadata": {
    "noteable-chatgpt": {
      "create_notebook": {
        "openai_conversation_id": "5b75651b-da55-54fe-ba8e-6c0dc97cd5cf",
        "openai_ephemeral_user_id": "d7c77d78-fd66-51c2-b57f-f214a5bb657e",
        "openai_subdivision1_iso_code": "AU-ACT"
      }
    },
    "noteable": {
      "last_transaction_id": "9b6ca7c5-6a3b-48c4-a4a0-a3567894c5e7"
    }
  },
  "cells": [
    {
      "id": "1c23f6b6-6623-47d0-9614-1982cd380dc8",
      "cell_type": "code",
      "metadata": {
        "jupyter": {
          "outputs_hidden": false,
          "source_hidden": false
        },
        "noteable": {
          "cell_type": "code",
          "output_collection_id": "3dd84b7a-ad0e-4158-984a-af864e542092"
        },
        "ExecuteTime": {
          "end_time": "2023-05-26T23:28:33.986101+00:00",
          "start_time": "2023-05-26T23:28:33.361854+00:00"
        }
      },
      "execution_count": null,
      "source": "import os\nimport json\nfrom github import Github\n\n# Initialize a Github instance with the personal access token\ng = Github(os.getenv('GITHUB_TOKEN'))\n\n# Get the repository\nrepo = g.get_repo('matthewhand/github-backup')\n\n# Create a new folder named 'notebooks'\nrepo.create_file('notebooks/.gitkeep', 'Create notebooks folder', '')\n\n# Get the list of notebooks\nnotebooks = [f for f in os.listdir('.') if f.endswith('.ipynb')]\n\n# Upload each notebook to the 'notebooks' folder\nfor notebook in notebooks:\n  with open(notebook, 'r') as f:\n    content = f.read()\n  repo.create_file(f'notebooks/{notebook}', f'Upload {notebook}', content)",
      "outputs": []
    },
    {
      "id": "aca816af-20f3-472b-925f-5e61154bf706",
      "cell_type": "code",
      "metadata": {
        "jupyter": {
          "outputs_hidden": false,
          "source_hidden": false
        },
        "noteable": {
          "cell_type": "code",
          "output_collection_id": "569052bb-42a9-4378-95df-d6c820ffec64"
        },
        "ExecuteTime": {
          "end_time": "2023-05-26T23:29:02.082208+00:00",
          "start_time": "2023-05-26T23:28:57.267702+00:00"
        }
      },
      "execution_count": null,
      "source": "!pip install PyGithub",
      "outputs": []
    }
  ]
}
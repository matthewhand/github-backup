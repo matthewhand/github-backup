{
  "nbformat": 4,
  "nbformat_minor": 5,
  "metadata": {
    "noteable-chatgpt": {
      "create_notebook": {
        "openai_conversation_id": "5b75651b-da55-54fe-ba8e-6c0dc97cd5cf",
        "openai_ephemeral_user_id": "d7c77d78-fd66-51c2-b57f-f214a5bb657e",
        "openai_subdivision1_iso_code": "AU-ACT"
      }
    },
    "noteable": {
      "last_transaction_id": "76f2d072-a72f-4ca6-b897-b919457848ad"
    },
    "selected_hardware_size": "small"
  },
  "cells": [
    {
      "id": "cd5756f5-1c7b-4c08-bee2-c27c1e54f8e1",
      "cell_type": "code",
      "metadata": {
        "jupyter": {
          "outputs_hidden": false,
          "source_hidden": false
        },
        "noteable": {
          "cell_type": "code"
        }
      },
      "execution_count": null,
      "source": "",
      "outputs": []
    },
    {
      "id": "9e7020a2-8adb-4b7c-b980-d8aec6eb19ea",
      "cell_type": "code",
      "metadata": {
        "jupyter": {
          "outputs_hidden": false,
          "source_hidden": false
        },
        "noteable": {
          "cell_type": "code",
          "output_collection_id": "899c4e56-6620-41f5-96c8-53c25fa4a913"
        },
        "ExecuteTime": {
          "end_time": "2023-05-26T22:35:09.991572+00:00",
          "start_time": "2023-05-26T22:35:09.829994+00:00"
        }
      },
      "execution_count": null,
      "source": "import os\nimport json\n\n# Define the CloudFormation resources\nresources = {\n  'GithubBackupPipelineRole': {\n    'Type': 'AWS::IAM::Role',\n    'Properties': {\n      'AssumeRolePolicyDocument': {\n        'Version': '2012-10-17',\n        'Statement': [\n          {\n            'Effect': 'Allow',\n            'Principal': {\n              'Service': [\n                'codepipeline.amazonaws.com'\n              ]\n            },\n            'Action': 'sts:AssumeRole'\n          }\n        ]\n      },\n      'ManagedPolicyArns': [\n        'arn:aws:iam::aws:policy/AmazonS3FullAccess',\n        'arn:aws:iam::aws:policy/AWSCodeBuildAdminAccess',\n        'arn:aws:iam::aws:policy/AWSLambda_FullAccess'\n      ]\n    }\n  }\n}\n\n# Create a separate JSON file for each resource\nfor resource_name, resource_content in resources.items():\n  with open(f'{resource_name}.json', 'w') as f:\n    json.dump(resource_content, f, indent=2)",
      "outputs": []
    }
  ]
}
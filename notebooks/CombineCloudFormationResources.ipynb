{
  "nbformat": 4,
  "nbformat_minor": 5,
  "metadata": {
    "noteable-chatgpt": {
      "create_notebook": {
        "openai_conversation_id": "5b75651b-da55-54fe-ba8e-6c0dc97cd5cf",
        "openai_ephemeral_user_id": "d7c77d78-fd66-51c2-b57f-f214a5bb657e",
        "openai_subdivision1_iso_code": "AU-ACT"
      }
    },
    "noteable": {
      "last_transaction_id": "b26da52f-f43e-46dd-b030-955ae1ea504a"
    },
    "selected_hardware_size": "small"
  },
  "cells": [
    {
      "id": "40e028fc-8cf2-4c28-bbcc-70b344734d66",
      "cell_type": "code",
      "metadata": {
        "jupyter": {
          "outputs_hidden": false,
          "source_hidden": false
        },
        "noteable": {
          "cell_type": "code"
        }
      },
      "execution_count": null,
      "source": "",
      "outputs": []
    }
  ]
}
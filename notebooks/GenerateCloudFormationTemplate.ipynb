{
  "nbformat": 4,
  "nbformat_minor": 5,
  "metadata": {
    "noteable-chatgpt": {
      "create_notebook": {
        "openai_conversation_id": "5b75651b-da55-54fe-ba8e-6c0dc97cd5cf",
        "openai_ephemeral_user_id": "d7c77d78-fd66-51c2-b57f-f214a5bb657e",
        "openai_subdivision1_iso_code": "AU-ACT"
      }
    },
    "noteable": {
      "last_transaction_id": "8a5c0fce-18b4-41eb-9cc7-23b6ace011ee"
    },
    "selected_hardware_size": "small"
  },
  "cells": [
    {
      "id": "e7900f3a-b943-4c41-bcdd-6dc7cc71f256",
      "cell_type": "code",
      "metadata": {
        "jupyter": {
          "outputs_hidden": false,
          "source_hidden": false
        },
        "noteable": {
          "cell_type": "code"
        }
      },
      "execution_count": null,
      "source": "",
      "outputs": []
    },
    {
      "id": "68e313a3-7aa8-4554-b2ed-ca4069d5908f",
      "cell_type": "code",
      "metadata": {
        "jupyter": {
          "outputs_hidden": false,
          "source_hidden": false
        },
        "noteable": {
          "cell_type": "code",
          "output_collection_id": "14094e48-2712-4585-a317-506832282260"
        },
        "ExecuteTime": {
          "end_time": "2023-05-26T22:45:29.279326+00:00",
          "start_time": "2023-05-26T22:45:29.120579+00:00"
        }
      },
      "execution_count": null,
      "source": "import json\n\n# Define the 'Source' stage of the pipeline\nsource_stage = {\n  'Name': 'Source',\n  'Actions': [\n    {\n      'Name': 'Source',\n      'ActionTypeId': {\n        'Category': 'Source',\n        'Owner': 'ThirdParty',\n        'Provider': 'GitHub',\n        'Version': '1'\n      },\n      'OutputArtifacts': [\n        {'Name': 'SourceOutput'}\n      ],\n      'Configuration': {\n        'Owner': {'Ref': 'GitHubOwner'},\n        'Repo': {'Ref': 'GitHubRepo'},\n        'Branch': {'Ref': 'GitHubBranch'},\n        'OAuthToken': {'Ref': 'GitHubToken'},\n        'PollForSourceChanges': 'false'\n      },\n      'RunOrder': 1\n    }\n  ]\n}\n\n# Write the 'Source' stage to a JSON file\nwith open('source_stage.json', 'w') as f:\n  json.dump(source_stage, f, indent=2)",
      "outputs": []
    },
    {
      "id": "c736b6ae-3243-4f15-b0bd-ef5e8f85b379",
      "cell_type": "code",
      "metadata": {
        "jupyter": {
          "outputs_hidden": false,
          "source_hidden": false
        },
        "noteable": {
          "cell_type": "code",
          "output_collection_id": "8c3860a8-6cac-4f28-a5e7-654bbd3e4df1"
        },
        "ExecuteTime": {
          "end_time": "2023-05-26T22:46:13.973071+00:00",
          "start_time": "2023-05-26T22:46:13.814695+00:00"
        }
      },
      "execution_count": null,
      "source": "# Define the 'Build' stage of the pipeline\nbuild_stage = {\n  'Name': 'Build',\n  'Actions': [\n    {\n      'Name': 'Build',\n      'ActionTypeId': {\n        'Category': 'Build',\n        'Owner': 'AWS',\n        'Provider': 'CodeBuild',\n        'Version': '1'\n      },\n      'InputArtifacts': [\n        {'Name': 'SourceOutput'}\n      ],\n      'OutputArtifacts': [\n        {'Name': 'BuildOutput'}\n      ],\n      'Configuration': {\n        'ProjectName': {'Ref': 'CodeBuildProjectName'}\n      },\n      'RunOrder': 1\n    }\n  ]\n}\n\n# Write the 'Build' stage to a JSON file\nwith open('build_stage.json', 'w') as f:\n  json.dump(build_stage, f, indent=2)",
      "outputs": []
    },
    {
      "id": "498ce49d-de20-43ca-b0e6-996844c21782",
      "cell_type": "code",
      "metadata": {
        "jupyter": {
          "outputs_hidden": false,
          "source_hidden": false
        },
        "noteable": {
          "cell_type": "code",
          "output_collection_id": "2f4e9548-fb72-40a5-8c20-ca4a3cba576a"
        },
        "ExecuteTime": {
          "end_time": "2023-05-26T22:46:53.075152+00:00",
          "start_time": "2023-05-26T22:46:52.917428+00:00"
        }
      },
      "execution_count": null,
      "source": "# Define the 'Deploy' stage of the pipeline\ndeploy_stage = {\n  'Name': 'Deploy',\n  'Actions': [\n    {\n      'Name': 'Deploy',\n      'ActionTypeId': {\n        'Category': 'Invoke',\n        'Owner': 'AWS',\n        'Provider': 'Lambda',\n        'Version': '1'\n      },\n      'InputArtifacts': [\n        {'Name': 'BuildOutput'}\n      ],\n      'Configuration': {\n        'FunctionName': {'Ref': 'LambdaFunctionName'},\n        'UserParameters': {'Fn::Sub': '{\"BucketName\":\"${BucketName}\"}'}\n      },\n      'RunOrder': 1\n    }\n  ]\n}\n\n# Write the 'Deploy' stage to a JSON file\nwith open('deploy_stage.json', 'w') as f:\n  json.dump(deploy_stage, f, indent=2)",
      "outputs": []
    },
    {
      "id": "e67d134c-81b1-4b17-8076-5832b2ad23e3",
      "cell_type": "code",
      "metadata": {
        "jupyter": {
          "outputs_hidden": false,
          "source_hidden": false
        },
        "noteable": {
          "cell_type": "code",
          "output_collection_id": "b111f3af-b835-497e-819c-176f3c0ef600"
        },
        "ExecuteTime": {
          "end_time": "2023-05-26T22:47:30.442175+00:00",
          "start_time": "2023-05-26T22:47:30.283253+00:00"
        }
      },
      "execution_count": null,
      "source": "# Load the stages from their respective JSON files\nwith open('source_stage.json', 'r') as f:\n  source_stage = json.load(f)\nwith open('build_stage.json', 'r') as f:\n  build_stage = json.load(f)\nwith open('deploy_stage.json', 'r') as f:\n  deploy_stage = json.load(f)\n\n# Combine the stages into a pipeline\npipeline = {\n  'Type': 'AWS::CodePipeline::Pipeline',\n  'Properties': {\n    'Name': {'Ref': 'PipelineName'},\n    'RoleArn': {'Fn::GetAtt': ['GithubBackupPipelineRole', 'Arn']},\n    'Stages': [source_stage, build_stage, deploy_stage]\n  }\n}\n\n# Write the pipeline to a JSON file\nwith open('pipeline.json', 'w') as f:\n  json.dump(pipeline, f, indent=2)",
      "outputs": []
    },
    {
      "id": "2f4e88cf-2270-4bb2-aca9-4d6786d36428",
      "cell_type": "code",
      "metadata": {
        "jupyter": {
          "outputs_hidden": false,
          "source_hidden": false
        },
        "noteable": {
          "cell_type": "code",
          "output_collection_id": "5bb90121-2884-4e4a-9ee6-6a9829f07b83"
        },
        "ExecuteTime": {
          "end_time": "2023-05-26T22:48:24.587308+00:00",
          "start_time": "2023-05-26T22:48:24.427186+00:00"
        }
      },
      "execution_count": null,
      "source": "# Load the pipeline from its JSON file\nwith open('pipeline.json', 'r') as f:\n  pipeline = json.load(f)\n\n# Define the other CloudFormation resources\nother_resources = {\n  'GithubBackupPipelineRole': {\n    'Type': 'AWS::IAM::Role',\n    'Properties': {\n      'AssumeRolePolicyDocument': {\n        'Version': '2012-10-17',\n        'Statement': [\n          {\n            'Effect': 'Allow',\n            'Principal': {\n              'Service': [\n                'codepipeline.amazonaws.com'\n              ]\n            },\n            'Action': 'sts:AssumeRole'\n          }\n        ]\n      },\n      'ManagedPolicyArns': [\n        'arn:aws:iam::aws:policy/AmazonS3FullAccess',\n        'arn:aws:iam::aws:policy/AWSCodeBuildAdminAccess',\n        'arn:aws:iam::aws:policy/AWSLambda_FullAccess'\n      ]\n    }\n  }\n}\n\n# Combine the pipeline with the other resources\ntemplate = {\n  'Resources': {**other_resources, **pipeline}\n}\n\n# Write the template to a JSON file\nwith open('template.json', 'w') as f:\n  json.dump(template, f, indent=2)",
      "outputs": []
    },
    {
      "id": "8cd6ecda-55ac-41d9-8d6a-9cdeee68d155",
      "cell_type": "code",
      "metadata": {
        "jupyter": {
          "outputs_hidden": false,
          "source_hidden": false
        },
        "noteable": {
          "cell_type": "code",
          "output_collection_id": "3b1831a5-04c9-4ab2-ab7e-af2dbc62faa5"
        },
        "ExecuteTime": {
          "end_time": "2023-05-26T22:48:49.733597+00:00",
          "start_time": "2023-05-26T22:48:49.570141+00:00"
        }
      },
      "execution_count": null,
      "source": "import yaml\n\n# Load the template from its JSON file\nwith open('template.json', 'r') as f:\n  template = json.load(f)\n\n# Convert the template to YAML\ntemplate_yaml = yaml.dump(template)\n\n# Write the template to a YAML file\nwith open('template.yaml', 'w') as f:\n  f.write(template_yaml)",
      "outputs": []
    },
    {
      "id": "721c89dc-abbe-4278-a683-978d69a81b36",
      "cell_type": "code",
      "metadata": {
        "jupyter": {
          "outputs_hidden": false,
          "source_hidden": false
        },
        "noteable": {
          "cell_type": "code",
          "output_collection_id": "f5ab598b-9f3c-40ca-92a0-fb678961103c"
        },
        "ExecuteTime": {
          "end_time": "2023-05-26T22:52:01.341301+00:00",
          "start_time": "2023-05-26T22:52:01.176162+00:00"
        }
      },
      "execution_count": null,
      "source": "# Define the CloudFormation parameters\nparameters = {\n  'GitHubToken': {\n    'Type': 'AWS::SSM::Parameter::Value<String>',\n    'Default': '/api/github',\n    'Description': 'The GitHub personal access token stored as a secure string in SSM Parameter Store.'\n  }\n}\n\n# Add the parameters to the template\ntemplate['Parameters'] = parameters\n\n# Write the updated template to a JSON file\nwith open('template.json', 'w') as f:\n  json.dump(template, f, indent=2)\n\n# Convert the updated template to YAML\ntemplate_yaml = yaml.dump(template)\n\n# Write the updated template to a YAML file\nwith open('template.yaml', 'w') as f:\n  f.write(template_yaml)",
      "outputs": []
    },
    {
      "id": "35f77c6f-548f-4ea6-ad1d-9cf442e863fd",
      "cell_type": "code",
      "metadata": {
        "jupyter": {
          "outputs_hidden": false,
          "source_hidden": false
        },
        "noteable": {
          "cell_type": "code",
          "output_collection_id": "992d40ec-92f8-4cba-80d4-57485189c6db"
        },
        "ExecuteTime": {
          "end_time": "2023-05-26T22:52:31.139265+00:00",
          "start_time": "2023-05-26T22:52:26.196889+00:00"
        }
      },
      "execution_count": null,
      "source": "!pip install PyGithub",
      "outputs": []
    },
    {
      "id": "a37e5dac-3634-4677-9473-9bd5b9e37072",
      "cell_type": "code",
      "metadata": {
        "jupyter": {
          "outputs_hidden": false,
          "source_hidden": false
        },
        "noteable": {
          "cell_type": "code",
          "output_collection_id": "1aaa59ea-22e8-48f5-9d9c-50143bd397cf"
        },
        "ExecuteTime": {
          "end_time": "2023-05-26T22:53:12.381653+00:00",
          "start_time": "2023-05-26T22:53:11.331425+00:00"
        }
      },
      "execution_count": null,
      "source": "from github import Github\nimport os\n\n# First create a Github instance:\n# using an access token\ng = Github(os.getenv('GITHUB_TOKEN'))\n\n# Then play with your Github objects:\nrepo = g.get_repo('matthewhand/github-backup')\n\n# Read the contents of the 'template.yaml' file\nwith open('template.yaml', 'r') as f:\n  template_yaml = f.read()\n\n# Read the contents of the 'buildspec.yml' file\nwith open('buildspec.yml', 'r') as f:\n  buildspec_yml = f.read()\n\n# Push the 'template.yaml' file to the repository\nrepo.create_file('template.yaml', 'Add template.yaml', template_yaml)\n\n# Push the 'buildspec.yml' file to the repository\nrepo.create_file('buildspec.yml', 'Add buildspec.yml', buildspec_yml)",
      "outputs": []
    },
    {
      "id": "a83e1f5b-d987-499d-a76b-9034f5939d8d",
      "cell_type": "code",
      "metadata": {
        "jupyter": {
          "outputs_hidden": false,
          "source_hidden": false
        },
        "noteable": {
          "cell_type": "code",
          "output_collection_id": "881ff606-c6c7-40e5-a5e2-9e3b552fa191"
        },
        "ExecuteTime": {
          "end_time": "2023-05-26T22:53:58.763422+00:00",
          "start_time": "2023-05-26T22:53:58.605935+00:00"
        }
      },
      "execution_count": null,
      "source": "# Define the contents of the 'buildspec.yml' file\nbuildspec_yml = '''\nversion: 0.2\n\nphases:\n  install:\n    commands:\n      - echo Checking for requirements.txt...\n      - if [ -f requirements.txt ]; then echo requirements.txt found, installing requirements... && pip install -r requirements.txt; else echo requirements.txt not found, skipping...; fi\n  build:\n    commands:\n      - echo Checking for template.yaml...\n      - if [ -f template.yaml ]; then echo template.yaml found, running cfn-lint... && cfn-lint template.yaml; else echo template.yaml not found, skipping...; fi\n'''\n\n# Write the 'buildspec.yml' file\nwith open('buildspec.yml', 'w') as f:\n  f.write(buildspec_yml)",
      "outputs": []
    },
    {
      "id": "4b1b4a20-5606-4c8c-a3aa-4add302065dd",
      "cell_type": "code",
      "metadata": {
        "jupyter": {
          "outputs_hidden": false,
          "source_hidden": false
        },
        "noteable": {
          "cell_type": "code",
          "output_collection_id": "67c040c7-0b47-420a-8a39-2f574855a816"
        },
        "ExecuteTime": {
          "end_time": "2023-05-26T22:54:32.802815+00:00",
          "start_time": "2023-05-26T22:54:31.987966+00:00"
        }
      },
      "execution_count": null,
      "source": "# Read the contents of the 'buildspec.yml' file again\nwith open('buildspec.yml', 'r') as f:\n  buildspec_yml = f.read()\n\n# Push the 'template.yaml' file to the repository\nrepo.create_file('template.yaml', 'Add template.yaml', template_yaml)\n\n# Push the 'buildspec.yml' file to the repository\nrepo.create_file('buildspec.yml', 'Add buildspec.yml', buildspec_yml)",
      "outputs": []
    },
    {
      "id": "7c4fc165-7654-47b4-947c-2f6e69e077e6",
      "cell_type": "code",
      "metadata": {
        "jupyter": {
          "outputs_hidden": false,
          "source_hidden": false
        },
        "noteable": {
          "cell_type": "code",
          "output_collection_id": "cd573858-6a20-4206-b411-cc8d5787df87"
        },
        "ExecuteTime": {
          "end_time": "2023-05-26T22:58:11.294908+00:00",
          "start_time": "2023-05-26T22:58:11.136893+00:00"
        }
      },
      "execution_count": null,
      "source": "# Define the contents of the 'README.md' file\nreadme_md = '''\n# AWS IaC CI/CD Project\n\n## Donation Button\n\nIf you find this project useful, you can support its development by making a donation. Think of it as buying me a coffee. Click on the button below to make a donation. You can choose an amount between 1 and 99.\n\n[![Donate with Stripe](https://img.shields.io/badge/Donate%20with-Stripe-blue.svg)](https://buy.stripe.com/00g14peASeEd7xCcMM)\n\n<img src=\"https://github.com/matthewhand/stripe-payment/raw/main/qr_00g14peASeEd7xCcMM.png\" width=\"150\" />\n\n## TODO\n\n- Macie Scan\n\n## Notebooks\n\nThe files in the 'notebooks' folder are the raw files created by ChatGPT. They contain the Python code that was executed to develop this project.\n\n![Human AI Conflict](https://github.com/matthewhand/stripe-payment/raw/main/human_ai_conflict.png)\n\nThe image above represents the symbiotic relationship between human and machine.\n\n*\"Imagination is not limited by what is, but rather, inspired by what could be.\" - Unknown\n'''\n\n# Write the 'README.md' file\nwith open('README.md', 'w') as f:\n  f.write(readme_md)",
      "outputs": []
    },
    {
      "id": "0a574550-816b-4cd5-843a-c256c7681206",
      "cell_type": "code",
      "metadata": {
        "jupyter": {
          "outputs_hidden": false,
          "source_hidden": false
        },
        "noteable": {
          "cell_type": "code",
          "output_collection_id": "5715623d-f6fa-45b6-b3b0-b8258a8cf7b0"
        },
        "ExecuteTime": {
          "end_time": "2023-05-26T22:58:35.660819+00:00",
          "start_time": "2023-05-26T22:58:35.220267+00:00"
        }
      },
      "execution_count": null,
      "source": "# Read the contents of the 'README.md' file\nwith open('README.md', 'r') as f:\n  readme_md = f.read()\n\n# Push the 'README.md' file to the repository\nrepo.create_file('README.md', 'Add README.md', readme_md)",
      "outputs": []
    },
    {
      "id": "668e1ad2-e06b-4ed9-a8d5-8450eef920b3",
      "cell_type": "code",
      "metadata": {
        "jupyter": {
          "outputs_hidden": false,
          "source_hidden": false
        },
        "noteable": {
          "cell_type": "code",
          "output_collection_id": "0eec8721-0eeb-48af-b0df-962aaac4606c"
        },
        "ExecuteTime": {
          "end_time": "2023-05-26T23:00:52.015738+00:00",
          "start_time": "2023-05-26T23:00:51.219548+00:00"
        }
      },
      "execution_count": null,
      "source": "import boto3\n\n# Create a session using your AWS credentials\nsession = boto3.Session(\n    aws_access_key_id=os.getenv('AWS_ACCESS_KEY_ID'),\n    aws_secret_access_key=os.getenv('AWS_SECRET_ACCESS_KEY'),\n    region_name=os.getenv('AWS_REGION')\n)\n\n# Create a CloudFormation client\ncf = session.client('cloudformation')\n\n# Read the contents of the 'template.yaml' file\nwith open('template.yaml', 'r') as f:\n  template_yaml = f.read()\n\n# Deploy the CloudFormation template\nresponse = cf.create_stack(\n    StackName='GithubBackupPipeline',\n    TemplateBody=template_yaml,\n    Capabilities=['CAPABILITY_NAMED_IAM']\n)\n\n# Get the ID of the stack\nstack_id = response['StackId']\n\n# Monitor the deployment\nwhile True:\n  response = cf.describe_stacks(StackName=stack_id)\n  stack_status = response['Stacks'][0]['StackStatus']\n  print(f'Stack status: {stack_status}')\n  if stack_status.endswith('_COMPLETE') or stack_status.endswith('_FAILED'):\n    break\n  time.sleep(5)",
      "outputs": []
    },
    {
      "id": "a6679f26-f27d-4904-88e1-760fb0aa4e96",
      "cell_type": "code",
      "metadata": {
        "jupyter": {
          "outputs_hidden": false,
          "source_hidden": false
        },
        "noteable": {
          "cell_type": "code",
          "output_collection_id": "f69f28fe-6f65-419d-85dc-675c03841d3d"
        },
        "ExecuteTime": {
          "end_time": "2023-05-26T23:01:37.547319+00:00",
          "start_time": "2023-05-26T23:01:37.383036+00:00"
        }
      },
      "execution_count": null,
      "source": "# Correct the type of the 'GitHubToken' parameter\ntemplate['Parameters']['GitHubToken']['Type'] = 'AWS::SSM::Parameter::Value<SecureString>'\n\n# Write the corrected template to a JSON file\nwith open('template.json', 'w') as f:\n  json.dump(template, f, indent=2)\n\n# Convert the corrected template to YAML\ntemplate_yaml = yaml.dump(template)\n\n# Write the corrected template to a YAML file\nwith open('template.yaml', 'w') as f:\n  f.write(template_yaml)",
      "outputs": []
    },
    {
      "id": "8639269f-47b7-434e-8b9b-2936542c2984",
      "cell_type": "code",
      "metadata": {
        "jupyter": {
          "outputs_hidden": false,
          "source_hidden": false
        },
        "noteable": {
          "cell_type": "code",
          "output_collection_id": "fd4b12e4-78d5-4c4c-aff6-08f59542501b"
        },
        "ExecuteTime": {
          "end_time": "2023-05-26T23:02:15.257065+00:00",
          "start_time": "2023-05-26T23:02:14.906447+00:00"
        }
      },
      "execution_count": null,
      "source": "# Read the contents of the corrected 'template.yaml' file\nwith open('template.yaml', 'r') as f:\n  template_yaml = f.read()\n\n# Deploy the corrected CloudFormation template\nresponse = cf.create_stack(\n    StackName='GithubBackupPipeline',\n    TemplateBody=template_yaml,\n    Capabilities=['CAPABILITY_NAMED_IAM']\n)\n\n# Get the ID of the stack\nstack_id = response['StackId']\n\n# Monitor the deployment\nwhile True:\n  response = cf.describe_stacks(StackName=stack_id)\n  stack_status = response['Stacks'][0]['StackStatus']\n  print(f'Stack status: {stack_status}')\n  if stack_status.endswith('_COMPLETE') or stack_status.endswith('_FAILED'):\n    break\n  time.sleep(5)",
      "outputs": []
    },
    {
      "id": "f6b5d3cb-2a23-49ec-9618-ad2ecb0476af",
      "cell_type": "code",
      "metadata": {
        "jupyter": {
          "outputs_hidden": false,
          "source_hidden": false
        },
        "noteable": {
          "cell_type": "code",
          "output_collection_id": "cb1a89aa-1d5e-4341-9f1c-f773c408ba81"
        },
        "ExecuteTime": {
          "end_time": "2023-05-26T23:03:00.638153+00:00",
          "start_time": "2023-05-26T23:03:00.473836+00:00"
        }
      },
      "execution_count": null,
      "source": "# Correct the type of the 'GitHubToken' parameter\ntemplate['Parameters']['GitHubToken']['Type'] = 'AWS::SSM::Parameter::Value<String>'\n\n# Write the corrected template to a JSON file\nwith open('template.json', 'w') as f:\n  json.dump(template, f, indent=2)\n\n# Convert the corrected template to YAML\ntemplate_yaml = yaml.dump(template)\n\n# Write the corrected template to a YAML file\nwith open('template.yaml', 'w') as f:\n  f.write(template_yaml)",
      "outputs": []
    },
    {
      "id": "7d4fe7aa-eb42-4f3a-86c4-85868167deff",
      "cell_type": "code",
      "metadata": {
        "jupyter": {
          "outputs_hidden": false,
          "source_hidden": false
        },
        "noteable": {
          "cell_type": "code",
          "output_collection_id": "61e54966-2fbe-4c67-bd59-80b19433b759"
        },
        "ExecuteTime": {
          "end_time": "2023-05-26T23:04:06.291133+00:00",
          "start_time": "2023-05-26T23:04:05.819775+00:00"
        }
      },
      "execution_count": null,
      "source": "# Read the contents of the corrected 'template.yaml' file\nwith open('template.yaml', 'r') as f:\n  template_yaml = f.read()\n\n# Deploy the corrected CloudFormation template\nresponse = cf.create_stack(\n    StackName='GithubBackupPipeline',\n    TemplateBody=template_yaml,\n    Capabilities=['CAPABILITY_NAMED_IAM']\n)\n\n# Get the ID of the stack\nstack_id = response['StackId']\n\n# Monitor the deployment\nwhile True:\n  response = cf.describe_stacks(StackName=stack_id)\n  stack_status = response['Stacks'][0]['StackStatus']\n  print(f'Stack status: {stack_status}')\n  if stack_status.endswith('_COMPLETE') or stack_status.endswith('_FAILED'):\n    break\n  time.sleep(5)",
      "outputs": []
    },
    {
      "id": "4939331f-d6f2-42c2-84ed-0cf9316f9f55",
      "cell_type": "code",
      "metadata": {
        "jupyter": {
          "outputs_hidden": false,
          "source_hidden": false
        },
        "noteable": {
          "cell_type": "code",
          "output_collection_id": "e9262c6c-934b-4baf-8ce9-74f66f2c7bb3"
        },
        "ExecuteTime": {
          "end_time": "2023-05-26T23:04:49.759315+00:00",
          "start_time": "2023-05-26T23:04:49.595209+00:00"
        }
      },
      "execution_count": null,
      "source": "# Remove the 'GitHubToken' parameter from the template\ndel template['Parameters']['GitHubToken']\n\n# Write the corrected template to a JSON file\nwith open('template.json', 'w') as f:\n  json.dump(template, f, indent=2)\n\n# Convert the corrected template to YAML\ntemplate_yaml = yaml.dump(template)\n\n# Write the corrected template to a YAML file\nwith open('template.yaml', 'w') as f:\n  f.write(template_yaml)",
      "outputs": []
    },
    {
      "id": "e8945c6e-ad94-4b8b-9c3f-fe87c4670060",
      "cell_type": "code",
      "metadata": {
        "jupyter": {
          "outputs_hidden": false,
          "source_hidden": false
        },
        "noteable": {
          "cell_type": "code",
          "output_collection_id": "1c051f0b-2c06-4a1d-8a5b-dd1fc2837676"
        },
        "ExecuteTime": {
          "end_time": "2023-05-26T23:06:58.881703+00:00",
          "start_time": "2023-05-26T23:06:58.251739+00:00"
        }
      },
      "execution_count": null,
      "source": "import boto3\n\n# Create a CloudFormation client\ncf = boto3.client('cloudformation')\n\n# Define the CloudFormation parameters\nparameters = [\n  {\n    'ParameterKey': 'GitHubToken',\n    'ParameterValue': '/api/github'\n  }\n]\n\n# Deploy the CloudFormation template\nresponse = cf.create_stack(\n  StackName='GithubBackupPipeline',\n  TemplateBody=template_yaml,\n  Parameters=parameters,\n  Capabilities=['CAPABILITY_NAMED_IAM']\n)\n\n# Get the ID of the stack\nstack_id = response['StackId']\n\n# Monitor the deployment\nwhile True:\n  # Get the status of the stack\n  stack = cf.describe_stacks(StackName=stack_id)['Stacks'][0]\n  status = stack['StackStatus']\n\n  # Print the status\n  print(f'Stack status: {status}')\n\n  # Break the loop if the stack is no longer in progress\n  if 'IN_PROGRESS' not in status:\n    break\n\n  # Wait for a while before checking the status again\n  time.sleep(5)\n\n# Validate success\nif status == 'CREATE_COMPLETE':\n  print('The stack was successfully deployed.')\nelse:\n  print('The stack deployment failed.')",
      "outputs": []
    },
    {
      "id": "054a1cd4-8e63-4cfe-ab87-58802c42d0e4",
      "cell_type": "code",
      "metadata": {
        "jupyter": {
          "outputs_hidden": false,
          "source_hidden": false
        },
        "noteable": {
          "cell_type": "code",
          "output_collection_id": "a5361390-41a0-4ee6-8ee6-e370e76ae837"
        },
        "ExecuteTime": {
          "end_time": "2023-05-26T23:07:56.654011+00:00",
          "start_time": "2023-05-26T23:07:56.248660+00:00"
        }
      },
      "execution_count": null,
      "source": "import boto3\n\n# Create a CloudFormation client\ncf = boto3.client('cloudformation', region_name=os.getenv('AWS_REGION'))\n\n# Define the CloudFormation parameters\nparameters = [\n  {\n    'ParameterKey': 'GitHubToken',\n    'ParameterValue': '/api/github'\n  }\n]\n\n# Deploy the CloudFormation template\nresponse = cf.create_stack(\n  StackName='GithubBackupPipeline',\n  TemplateBody=template_yaml,\n  Parameters=parameters,\n  Capabilities=['CAPABILITY_NAMED_IAM']\n)\n\n# Get the ID of the stack\nstack_id = response['StackId']\n\n# Monitor the deployment\nwhile True:\n  # Get the status of the stack\n  stack = cf.describe_stacks(StackName=stack_id)['Stacks'][0]\n  status = stack['StackStatus']\n\n  # Print the status\n  print(f'Stack status: {status}')\n\n  # Break the loop if the stack is no longer in progress\n  if 'IN_PROGRESS' not in status:\n    break\n\n  # Wait for a while before checking the status again\n  time.sleep(5)\n\n# Validate success\nif status == 'CREATE_COMPLETE':\n  print('The stack was successfully deployed.')\nelse:\n  print('The stack deployment failed.')",
      "outputs": []
    },
    {
      "id": "34bdbbee-1a93-4093-bd09-0428c00a94ef",
      "cell_type": "code",
      "metadata": {
        "jupyter": {
          "outputs_hidden": false,
          "source_hidden": false
        },
        "noteable": {
          "cell_type": "code",
          "output_collection_id": "417ebed3-90bc-4d36-9150-d8207679c2f2"
        },
        "ExecuteTime": {
          "end_time": "2023-05-26T23:09:23.826349+00:00",
          "start_time": "2023-05-26T23:09:23.471382+00:00"
        }
      },
      "execution_count": null,
      "source": "# Define the CloudFormation parameters\nparameters = [\n  {\n    'ParameterKey': 'GitHubToken',\n    'ParameterValue': '/api/github'\n  }\n]\n\n# Deploy the CloudFormation template\nresponse = cf.create_stack(\n  StackName='GithubBackupPipeline',\n  TemplateBody=template_yaml,\n  Parameters=parameters,\n  Capabilities=['CAPABILITY_NAMED_IAM']\n)\n\n# Get the ID of the stack\nstack_id = response['StackId']\n\n# Monitor the deployment\nwhile True:\n  # Get the status of the stack\n  stack = cf.describe_stacks(StackName=stack_id)['Stacks'][0]\n  status = stack['StackStatus']\n\n  # Print the status\n  print(f'Stack status: {status}')\n\n  # Break the loop if the stack is no longer in progress\n  if 'IN_PROGRESS' not in status:\n    break\n\n  # Wait for a while before checking the status again\n  time.sleep(5)\n\n# Validate success\nif status == 'CREATE_COMPLETE':\n  print('The stack was successfully deployed.')\nelse:\n  print('The stack deployment failed.')",
      "outputs": []
    },
    {
      "id": "e42d42c6-4a89-4c3b-a0df-61b648d15d6c",
      "cell_type": "code",
      "metadata": {
        "jupyter": {
          "outputs_hidden": false,
          "source_hidden": false
        },
        "noteable": {
          "cell_type": "code",
          "output_collection_id": "bd399110-0ee5-484c-89e1-f910a7e63ac7"
        },
        "ExecuteTime": {
          "end_time": "2023-05-26T23:10:26.311113+00:00",
          "start_time": "2023-05-26T23:10:25.981822+00:00"
        }
      },
      "execution_count": null,
      "source": "# Define the CloudFormation parameters\nparameters = [\n  {\n    'ParameterKey': 'GitHubToken',\n    'ParameterValue': '/api/github'\n  }\n]\n\n# Deploy the CloudFormation template\nresponse = cf.create_stack(\n  StackName='GithubBackupPipeline',\n  TemplateBody=template_yaml,\n  Parameters=parameters,\n  Capabilities=['CAPABILITY_NAMED_IAM']\n)\n\n# Get the ID of the stack\nstack_id = response['StackId']\n\n# Monitor the deployment\nwhile True:\n  # Get the status of the stack\n  stack = cf.describe_stacks(StackName=stack_id)['Stacks'][0]\n  status = stack['StackStatus']\n\n  # Print the status\n  print(f'Stack status: {status}')\n\n  # Break the loop if the stack is no longer in progress\n  if 'IN_PROGRESS' not in status:\n    break\n\n  # Wait for a while before checking the status again\n  time.sleep(5)\n\n# Validate success\nif status == 'CREATE_COMPLETE':\n  print('The stack was successfully deployed.')\nelse:\n  print('The stack deployment failed.')",
      "outputs": []
    },
    {
      "id": "5e122a08-89d9-4832-87df-3691629c1dc9",
      "cell_type": "code",
      "metadata": {
        "jupyter": {
          "outputs_hidden": false,
          "source_hidden": false
        },
        "noteable": {
          "cell_type": "code",
          "output_collection_id": "774f0aca-9a92-4271-a62c-249a8eef7dc5"
        },
        "ExecuteTime": {
          "end_time": "2023-05-26T23:12:37.404371+00:00",
          "start_time": "2023-05-26T23:12:37.220651+00:00"
        }
      },
      "execution_count": null,
      "source": "# Define the parameters for the CloudFormation template\ntemplate_parameters = {\n  'Parameters': {\n    'GitHubBranch': {\n      'Type': 'String',\n      'Description': 'The branch of the GitHub repository to use.'\n    },\n    'GitHubOwner': {\n      'Type': 'String',\n      'Description': 'The owner of the GitHub repository.'\n    },\n    'GitHubRepo': {\n      'Type': 'String',\n      'Description': 'The name of the GitHub repository.'\n    },\n    'GitHubToken': {\n      'Type': 'AWS::SSM::Parameter::Value<String>',\n      'Description': 'The GitHub token stored in the SSM Parameter Store.',\n      'Default': '/api/github'\n    }\n  }\n}\n\n# Update the CloudFormation template with the parameters\ntemplate_yaml = yaml.safe_load(template_yaml)\ntemplate_yaml.update(template_parameters)\n\n# Convert the template back to a YAML string\ntemplate_yaml = yaml.safe_dump(template_yaml)",
      "outputs": []
    },
    {
      "id": "432db2c6-bcee-4643-bb68-03e7a655ff73",
      "cell_type": "code",
      "metadata": {
        "jupyter": {
          "outputs_hidden": false,
          "source_hidden": false
        },
        "noteable": {
          "cell_type": "code",
          "output_collection_id": "39560ca5-c2a5-4984-b2dd-d5bbe99362dd"
        },
        "ExecuteTime": {
          "end_time": "2023-05-26T23:13:30.950342+00:00",
          "start_time": "2023-05-26T23:13:30.559457+00:00"
        }
      },
      "execution_count": null,
      "source": "# Define the CloudFormation parameters\nparameters = [\n  {\n    'ParameterKey': 'GitHubBranch',\n    'ParameterValue': 'main'\n  },\n  {\n    'ParameterKey': 'GitHubOwner',\n    'ParameterValue': 'matthewhand'\n  },\n  {\n    'ParameterKey': 'GitHubRepo',\n    'ParameterValue': 'github-backup'\n  },\n  {\n    'ParameterKey': 'GitHubToken',\n    'ParameterValue': '/api/github'\n  }\n]\n\n# Deploy the CloudFormation template\nresponse = cf.create_stack(\n  StackName='GithubBackupPipeline',\n  TemplateBody=template_yaml,\n  Parameters=parameters,\n  Capabilities=['CAPABILITY_NAMED_IAM']\n)\n\n# Get the ID of the stack\nstack_id = response['StackId']\n\n# Monitor the deployment\nwhile True:\n  # Get the status of the stack\n  stack = cf.describe_stacks(StackName=stack_id)['Stacks'][0]\n  status = stack['StackStatus']\n\n  # Print the status\n  print(f'Stack status: {status}')\n\n  # Break the loop if the stack is no longer in progress\n  if 'IN_PROGRESS' not in status:\n    break\n\n  # Wait for a while before checking the status again\n  time.sleep(5)\n\n# Validate success\nif status == 'CREATE_COMPLETE':\n  print('The stack was successfully deployed.')\nelse:\n  print('The stack deployment failed.')",
      "outputs": []
    },
    {
      "id": "99c419c2-09d8-4311-b03a-c3ae81f7f3d0",
      "cell_type": "code",
      "metadata": {
        "jupyter": {
          "outputs_hidden": false,
          "source_hidden": false
        },
        "noteable": {
          "cell_type": "code",
          "output_collection_id": "ecfd61ca-3c0e-4632-9ab7-73be0e31a151"
        },
        "ExecuteTime": {
          "end_time": "2023-05-26T23:15:43.172276+00:00",
          "start_time": "2023-05-26T23:15:42.782211+00:00"
        }
      },
      "execution_count": null,
      "source": "# Remove the GitHubToken parameter from the CloudFormation template\ntemplate_yaml = yaml.safe_load(template_yaml)\ndel template_yaml['Parameters']['GitHubToken']\n\n# Convert the template back to a YAML string\ntemplate_yaml = yaml.safe_dump(template_yaml)\n\n# Define the CloudFormation parameters\nparameters = [\n  {\n    'ParameterKey': 'GitHubBranch',\n    'ParameterValue': 'main'\n  },\n  {\n    'ParameterKey': 'GitHubOwner',\n    'ParameterValue': 'matthewhand'\n  },\n  {\n    'ParameterKey': 'GitHubRepo',\n    'ParameterValue': 'github-backup'\n  }\n]\n\n# Deploy the CloudFormation template\nresponse = cf.create_stack(\n  StackName='GithubBackupPipeline',\n  TemplateBody=template_yaml,\n  Parameters=parameters,\n  Capabilities=['CAPABILITY_NAMED_IAM']\n)\n\n# Get the ID of the stack\nstack_id = response['StackId']\n\n# Monitor the deployment\nwhile True:\n  # Get the status of the stack\n  stack = cf.describe_stacks(StackName=stack_id)['Stacks'][0]\n  status = stack['StackStatus']\n\n  # Print the status\n  print(f'Stack status: {status}')\n\n  # Break the loop if the stack is no longer in progress\n  if 'IN_PROGRESS' not in status:\n    break\n\n  # Wait for a while before checking the status again\n  time.sleep(5)\n\n# Validate success\nif status == 'CREATE_COMPLETE':\n  print('The stack was successfully deployed.')\nelse:\n  print('The stack deployment failed.')",
      "outputs": []
    },
    {
      "id": "59b7b665-bf24-45bd-b6d3-46750b4bc452",
      "cell_type": "code",
      "metadata": {
        "jupyter": {
          "outputs_hidden": false,
          "source_hidden": false
        },
        "noteable": {
          "cell_type": "code",
          "output_collection_id": "db718a93-7387-4c91-bdb9-8a45d9672877"
        },
        "ExecuteTime": {
          "end_time": "2023-05-26T23:18:09.505736+00:00",
          "start_time": "2023-05-26T23:18:09.118750+00:00"
        }
      },
      "execution_count": null,
      "source": "# Add the GitHubToken parameter back to the CloudFormation template\ntemplate_yaml = yaml.safe_load(template_yaml)\ntemplate_yaml['Parameters']['GitHubToken'] = {\n  'Default': '/api/github',\n  'Description': 'The GitHub personal access token stored as a secure string in SSM Parameter Store.',\n  'Type': 'AWS::SSM::Parameter::Value<String>'\n}\n\n# Convert the template back to a YAML string\ntemplate_yaml = yaml.safe_dump(template_yaml)\n\n# Define the CloudFormation parameters\nparameters = [\n  {\n    'ParameterKey': 'GitHubBranch',\n    'ParameterValue': 'main'\n  },\n  {\n    'ParameterKey': 'GitHubOwner',\n    'ParameterValue': 'matthewhand'\n  },\n  {\n    'ParameterKey': 'GitHubRepo',\n    'ParameterValue': 'github-backup'\n  },\n  {\n    'ParameterKey': 'GitHubToken',\n    'ParameterValue': '/api/github'\n  }\n]\n\n# Deploy the CloudFormation template\nresponse = cf.create_stack(\n  StackName='GithubBackupPipeline',\n  TemplateBody=template_yaml,\n  Parameters=parameters,\n  Capabilities=['CAPABILITY_NAMED_IAM']\n)\n\n# Get the ID of the stack\nstack_id = response['StackId']\n\n# Monitor the deployment\nwhile True:\n  # Get the status of the stack\n  stack = cf.describe_stacks(StackName=stack_id)['Stacks'][0]\n  status = stack['StackStatus']\n\n  # Print the status\n  print(f'Stack status: {status}')\n\n  # Break the loop if the stack is no longer in progress\n  if 'IN_PROGRESS' not in status:\n    break\n\n  # Wait for a while before checking the status again\n  time.sleep(5)\n\n# Validate success\nif status == 'CREATE_COMPLETE':\n  print('The stack was successfully deployed.')\nelse:\n  print('The stack deployment failed.')",
      "outputs": []
    },
    {
      "id": "934b1bce-533b-4926-b4a6-eed836eff06a",
      "cell_type": "code",
      "metadata": {
        "jupyter": {
          "outputs_hidden": false,
          "source_hidden": false
        },
        "noteable": {
          "cell_type": "code",
          "output_collection_id": "74ca1bf8-6c79-4ae3-8519-38a489958f5d"
        },
        "ExecuteTime": {
          "end_time": "2023-05-26T23:21:32.538758+00:00",
          "start_time": "2023-05-26T23:21:32.118951+00:00"
        }
      },
      "execution_count": null,
      "source": "# Add the GitHubToken parameter back to the CloudFormation template\ntemplate_yaml = yaml.safe_load(template_yaml)\ntemplate_yaml['Parameters']['GitHubToken'] = {\n  'Default': '/api/github',\n  'Description': 'The GitHub personal access token stored as a secure string in SSM Parameter Store.',\n  'Type': 'AWS::SSM::Parameter::Value<String>'\n}\n\n# Convert the template back to a YAML string\ntemplate_yaml = yaml.safe_dump(template_yaml)\n\n# Define the CloudFormation parameters\nparameters = [\n  {\n    'ParameterKey': 'GitHubBranch',\n    'ParameterValue': 'main'\n  },\n  {\n    'ParameterKey': 'GitHubOwner',\n    'ParameterValue': 'matthewhand'\n  },\n  {\n    'ParameterKey': 'GitHubRepo',\n    'ParameterValue': 'github-backup'\n  },\n  {\n    'ParameterKey': 'GitHubToken',\n    'ParameterValue': '/api/github'\n  }\n]\n\n# Deploy the CloudFormation template\nresponse = cf.create_stack(\n  StackName='GithubBackupPipeline',\n  TemplateBody=template_yaml,\n  Parameters=parameters,\n  Capabilities=['CAPABILITY_NAMED_IAM']\n)\n\n# Get the ID of the stack\nstack_id = response['StackId']\n\n# Monitor the deployment\nwhile True:\n  # Get the status of the stack\n  stack = cf.describe_stacks(StackName=stack_id)['Stacks'][0]\n  status = stack['StackStatus']\n\n  # Print the status\n  print(f'Stack status: {status}')\n\n  # Break the loop if the stack is no longer in progress\n  if 'IN_PROGRESS' not in status:\n    break\n\n  # Wait for a while before checking the status again\n  time.sleep(5)\n\n# Validate success\nif status == 'CREATE_COMPLETE':\n  print('The stack was successfully deployed.')\nelse:\n  print('The stack deployment failed.')",
      "outputs": []
    },
    {
      "id": "0288487f-a28f-4f45-baf3-9c7f91fa2022",
      "cell_type": "code",
      "metadata": {
        "jupyter": {
          "outputs_hidden": false,
          "source_hidden": false
        },
        "noteable": {
          "cell_type": "code",
          "output_collection_id": "f142d9a1-17ab-408c-963c-89834560ac16"
        },
        "ExecuteTime": {
          "end_time": "2023-05-26T23:24:24.530566+00:00",
          "start_time": "2023-05-26T23:24:24.119231+00:00"
        }
      },
      "execution_count": null,
      "source": "# Add the GitHubToken parameter back to the CloudFormation template\ntemplate_yaml = yaml.safe_load(template_yaml)\ntemplate_yaml['Parameters']['GitHubToken'] = {\n  'Default': '{{resolve:ssm-secure:/api/github}}',\n  'Description': 'The GitHub personal access token stored as a secure string in SSM Parameter Store.',\n  'Type': 'String'\n}\n\n# Convert the template back to a YAML string\ntemplate_yaml = yaml.safe_dump(template_yaml)\n\n# Define the CloudFormation parameters\nparameters = [\n  {\n    'ParameterKey': 'GitHubBranch',\n    'ParameterValue': 'main'\n  },\n  {\n    'ParameterKey': 'GitHubOwner',\n    'ParameterValue': 'matthewhand'\n  },\n  {\n    'ParameterKey': 'GitHubRepo',\n    'ParameterValue': 'github-backup'\n  },\n  {\n    'ParameterKey': 'GitHubToken',\n    'ParameterValue': '{{resolve:ssm-secure:/api/github}}'\n  }\n]\n\n# Deploy the CloudFormation template\nresponse = cf.create_stack(\n  StackName='GithubBackupPipeline',\n  TemplateBody=template_yaml,\n  Parameters=parameters,\n  Capabilities=['CAPABILITY_NAMED_IAM']\n)\n\n# Get the ID of the stack\nstack_id = response['StackId']\n\n# Monitor the deployment\nwhile True:\n  # Get the status of the stack\n  stack = cf.describe_stacks(StackName=stack_id)['Stacks'][0]\n  status = stack['StackStatus']\n\n  # Print the status\n  print(f'Stack status: {status}')\n\n  # Break the loop if the stack is no longer in progress\n  if 'IN_PROGRESS' not in status:\n    break\n\n  # Wait for a while before checking the status again\n  time.sleep(5)\n\n# Validate success\nif status == 'CREATE_COMPLETE':\n  print('The stack was successfully deployed.')\nelse:\n  print('The stack deployment failed.')",
      "outputs": []
    },
    {
      "id": "6f976e5a-8977-48fc-be25-7207d57f5703",
      "cell_type": "code",
      "metadata": {
        "jupyter": {
          "outputs_hidden": false,
          "source_hidden": false
        },
        "noteable": {
          "cell_type": "code",
          "output_collection_id": "87134b25-36f7-4163-b816-00a46cebbd1d"
        },
        "ExecuteTime": {
          "end_time": "2023-05-26T23:26:41.346851+00:00",
          "start_time": "2023-05-26T23:26:40.958126+00:00"
        }
      },
      "execution_count": null,
      "source": "# Remove the GitHubToken parameter from the CloudFormation template\ntemplate_yaml = yaml.safe_load(template_yaml)\ndel template_yaml['Parameters']['GitHubToken']\n\n# Convert the template back to a YAML string\ntemplate_yaml = yaml.safe_dump(template_yaml)\n\n# Define the CloudFormation parameters\nparameters = [\n  {\n    'ParameterKey': 'GitHubBranch',\n    'ParameterValue': 'main'\n  },\n  {\n    'ParameterKey': 'GitHubOwner',\n    'ParameterValue': 'matthewhand'\n  },\n  {\n    'ParameterKey': 'GitHubRepo',\n    'ParameterValue': 'github-backup'\n  }\n]\n\n# Deploy the CloudFormation template\nresponse = cf.create_stack(\n  StackName='GithubBackupPipeline',\n  TemplateBody=template_yaml,\n  Parameters=parameters,\n  Capabilities=['CAPABILITY_NAMED_IAM']\n)\n\n# Get the ID of the stack\nstack_id = response['StackId']\n\n# Monitor the deployment\nwhile True:\n  # Get the status of the stack\n  stack = cf.describe_stacks(StackName=stack_id)['Stacks'][0]\n  status = stack['StackStatus']\n\n  # Print the status\n  print(f'Stack status: {status}')\n\n  # Break the loop if the stack is no longer in progress\n  if 'IN_PROGRESS' not in status:\n    break\n\n  # Wait for a while before checking the status again\n  time.sleep(5)\n\n# Validate success\nif status == 'CREATE_COMPLETE':\n  print('The stack was successfully deployed.')\nelse:\n  print('The stack deployment failed.')",
      "outputs": []
    }
  ]
}
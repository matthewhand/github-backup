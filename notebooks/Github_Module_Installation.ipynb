{
  "nbformat": 4,
  "nbformat_minor": 5,
  "metadata": {
    "noteable-chatgpt": {
      "create_notebook": {
        "openai_conversation_id": "5b75651b-da55-54fe-ba8e-6c0dc97cd5cf",
        "openai_ephemeral_user_id": "d7c77d78-fd66-51c2-b57f-f214a5bb657e",
        "openai_subdivision1_iso_code": "AU-ACT"
      }
    },
    "noteable": {
      "last_transaction_id": "d9565e35-4c3e-437f-9c48-33e03fac1204"
    },
    "selected_hardware_size": "small"
  },
  "cells": [
    {
      "id": "a4bd984d-ded6-479b-8ebb-cf4af0b51f2e",
      "cell_type": "code",
      "metadata": {
        "jupyter": {
          "outputs_hidden": false,
          "source_hidden": false
        },
        "noteable": {
          "cell_type": "code",
          "output_collection_id": "5ed1cfa5-1258-4d7d-b86d-55cbccf056dd"
        },
        "ExecuteTime": {
          "end_time": "2023-05-26T19:16:11.814832+00:00",
          "start_time": "2023-05-26T19:16:06.392069+00:00"
        }
      },
      "execution_count": null,
      "source": "!pip install PyGithub",
      "outputs": []
    },
    {
      "id": "71b8f96f-390b-46e0-8fd2-195bfbd47feb",
      "cell_type": "markdown",
      "source": "# Project Plan for Setting Up a 3-Stage AWS CodePipeline\n\n## Brainstorming\n\n### Option 1: Manual Setup\n* **Pros**: Full control over every step, no additional setup required.\n* **Cons**: Time-consuming, prone to human error, not scalable.\n\n### Option 2: Using AWS Management Console\n* **Pros**: User-friendly interface, guided setup process.\n* **Cons**: Still requires manual input, not as scalable as infrastructure as code.\n\n### Option 3: Using Infrastructure as Code (IaC) Tools\n* **Pros**: Highly scalable, can be version controlled, reduces human error.\n* **Cons**: Requires knowledge of specific IaC language (e.g., AWS CloudFormation, Terraform).\n\n## Evaluation\n\nGiven the need for a scalable and reliable solution, Option 3 (Using Infrastructure as Code Tools) seems to be the most suitable approach. It allows for version control and reduces the risk of human error.\n\n## Expansion\n\nIf we choose to proceed with Option 3, we have further choices to make regarding which IaC tool to use. The most common options are AWS CloudFormation and Terraform. Both have their strengths and weaknesses, but given that we're working exclusively with AWS services, AWS CloudFormation might be the better choice.\n\n## Decision\n\nWe will proceed with setting up the 3-stage AWS CodePipeline using AWS CloudFormation. This approach aligns with best practices for managing infrastructure and will provide the most efficient and reliable solution.",
      "metadata": {
        "jupyter": {
          "outputs_hidden": false,
          "source_hidden": false
        },
        "noteable": {
          "cell_type": "markdown"
        }
      }
    },
    {
      "id": "379b6ec1-53b2-441e-bba3-7a64af009d0e",
      "cell_type": "markdown",
      "source": "# Implementation\n\n## AWS CloudFormation\n\nWe will use AWS CloudFormation to define the infrastructure needed for our 3-stage AWS CodePipeline. This will include the following resources:\n\n1. **CodePipeline**: This will be the main resource that orchestrates the whole process. It will consist of three stages: Source, Build, and Deploy.\n2. **CodeBuild**: This will be used in the Build stage of our pipeline. It will use a buildspec file to install Python requirements and build our application.\n3. **Lambda**: This will be the resource that our pipeline deploys. It will be defined in a separate CloudFormation template which our pipeline will use to create or update the Lambda function.\n\n## GitHub Python Module\n\nWe will use the GitHub Python module to interact with your GitHub repository. This will involve the following steps:\n\n1. **Authentication**: We will authenticate with GitHub using a token.\n2. **Repository Interaction**: We will interact with your repository to perform tasks such as creating a new file (for our CloudFormation templates) and updating existing files (like the README.md file).\n\nLet's start by installing the GitHub Python module in our notebook.",
      "metadata": {
        "jupyter": {
          "outputs_hidden": false,
          "source_hidden": false
        },
        "noteable": {
          "cell_type": "markdown"
        }
      }
    },
    {
      "id": "b82f10aa-052a-45a1-923f-89b540a259c1",
      "cell_type": "markdown",
      "source": "# AWS CloudFormation Templates\n\nWe will develop the CloudFormation template resources separately and then aggregate them. This approach will help us manage our computational time more effectively.\n\n## CodePipeline Template\n\nThis template will define the CodePipeline resource. It will consist of three stages: Source, Build, and Deploy. The Source stage will retrieve the source code from the GitHub repository. The Build stage will use CodeBuild to install Python requirements and build the application. The Deploy stage will use CloudFormation to create or update the Lambda function.\n\n## CodeBuild Template\n\nThis template will define the CodeBuild resource. It will include the buildspec file that specifies the commands to run during the build stage. The buildspec file will use pip to install the Python requirements from the requirements.txt file.\n\n## Lambda Template\n\nThis template will define the Lambda function that our pipeline deploys. It will be defined in a separate CloudFormation template which our pipeline will use to create or update the Lambda function.",
      "metadata": {
        "jupyter": {
          "outputs_hidden": false,
          "source_hidden": false
        },
        "noteable": {
          "cell_type": "markdown"
        }
      }
    },
    {
      "id": "331665fb-7a3b-4574-85c5-a6cb0f5ea92d",
      "cell_type": "markdown",
      "source": "## CodePipeline CloudFormation Template\n\nHere is a high-level overview of what the CodePipeline CloudFormation template might look like:\n\n```yaml\nResources:\n  MyPipeline:\n    Type: AWS::CodePipeline::Pipeline\n    Properties:\n      Stages:\n        - Name: Source\n          Actions:\n            - Name: GitHub_Source\n              ActionTypeId:\n                Category: Source\n                Owner: ThirdParty\n                Provider: GitHub\n                Version: 1\n              OutputArtifacts:\n                - Name: SourceOutput\n              Configuration:\n                Owner: <GitHub username>\n                Repo: <GitHub repo>\n                Branch: <GitHub branch>\n                OAuthToken: !Ref GitHubToken\n              RunOrder: 1\n        - Name: Build\n          Actions:\n            - Name: CodeBuild_Build\n              InputArtifacts:\n                - Name: SourceOutput\n              OutputArtifacts:\n                - Name: BuildOutput\n              ActionTypeId:\n                Category: Build\n                Owner: AWS\n                Provider: CodeBuild\n                Version: 1\n              Configuration:\n                ProjectName: !Ref CodeBuildProject\n              RunOrder: 1\n        - Name: Deploy\n          Actions:\n            - Name: CloudFormation_Deploy\n              InputArtifacts:\n                - Name: BuildOutput\n              ActionTypeId:\n                Category: Deploy\n                Owner: AWS\n                Provider: CloudFormation\n                Version: 1\n              Configuration:\n                ActionMode: CREATE_UPDATE\n                StackName: <CloudFormation stack name>\n                TemplatePath: BuildOutput::template.yaml\n              RunOrder: 1\n```\n\nThis is a simplified version of the template and you will need to replace the placeholders (like `<GitHub username>`, `<GitHub repo>`, `<GitHub branch>`, and `<CloudFormation stack name>`) with your actual values. You will also need to define the `GitHubToken` and `CodeBuildProject` resources separately.",
      "metadata": {
        "jupyter": {
          "outputs_hidden": false,
          "source_hidden": false
        },
        "noteable": {
          "cell_type": "markdown"
        }
      }
    },
    {
      "id": "c438b705-b9ed-4146-b5da-d27fa06299ce",
      "cell_type": "markdown",
      "source": "## CodePipeline CloudFormation Template with Parameters\n\nHere is a high-level overview of what the CodePipeline CloudFormation template might look like with parameters instead of placeholders:\n\n```yaml\nParameters:\n  GitHubUsername:\n    Type: String\n  GitHubRepo:\n    Type: String\n  GitHubBranch:\n    Type: String\n  GitHubToken:\n    Type: String\n  CodeBuildProject:\n    Type: String\n  CloudFormationStackName:\n    Type: String\n\nResources:\n  MyPipeline:\n    Type: AWS::CodePipeline::Pipeline\n    Properties:\n      Stages:\n        - Name: Source\n          Actions:\n            - Name: GitHub_Source\n              ActionTypeId:\n                Category: Source\n                Owner: ThirdParty\n                Provider: GitHub\n                Version: 1\n              OutputArtifacts:\n                - Name: SourceOutput\n              Configuration:\n                Owner: !Ref GitHubUsername\n                Repo: !Ref GitHubRepo\n                Branch: !Ref GitHubBranch\n                OAuthToken: !Ref GitHubToken\n              RunOrder: 1\n        - Name: Build\n          Actions:\n            - Name: CodeBuild_Build\n              InputArtifacts:\n                - Name: SourceOutput\n              OutputArtifacts:\n                - Name: BuildOutput\n              ActionTypeId:\n                Category: Build\n                Owner: AWS\n                Provider: CodeBuild\n                Version: 1\n              Configuration:\n                ProjectName: !Ref CodeBuildProject\n              RunOrder: 1\n        - Name: Deploy\n          Actions:\n            - Name: CloudFormation_Deploy\n              InputArtifacts:\n                - Name: BuildOutput\n              ActionTypeId:\n                Category: Deploy\n                Owner: AWS\n                Provider: CloudFormation\n                Version: 1\n              Configuration:\n                ActionMode: CREATE_UPDATE\n                StackName: !Ref CloudFormationStackName\n                TemplatePath: BuildOutput::template.yaml\n              RunOrder: 1\n```\n\nThis version of the template uses parameters instead of placeholders. You can provide the actual values for these parameters when you create or update the CloudFormation stack.",
      "metadata": {
        "jupyter": {
          "outputs_hidden": false,
          "source_hidden": false
        },
        "noteable": {
          "cell_type": "markdown"
        }
      }
    },
    {
      "id": "6fe55100-ff04-4501-af77-30fd763eca95",
      "cell_type": "markdown",
      "source": "## CodeBuild CloudFormation Template\n\nHere is a high-level overview of what the CodeBuild CloudFormation template might look like:\n\n```yaml\nParameters:\n  ProjectName:\n    Type: String\n  BuildImage:\n    Type: String\n  BuildSpec:\n    Type: String\n\nResources:\n  MyCodeBuildProject:\n    Type: AWS::CodeBuild::Project\n    Properties:\n      Name: !Ref ProjectName\n      Source:\n        Type: CODEPIPELINE\n      Artifacts:\n        Type: CODEPIPELINE\n      Environment:\n        Type: LINUX_CONTAINER\n        ComputeType: BUILD_GENERAL1_SMALL\n        Image: !Ref BuildImage\n        EnvironmentVariables:\n          - Name: AWS_ACCOUNT_ID\n            Value: !Ref AWS::AccountId\n          - Name: AWS_REGION\n            Value: !Ref AWS::Region\n      ServiceRole: !GetAtt CodeBuildServiceRole.Arn\n      BuildSpec: !Ref BuildSpec\n\n  CodeBuildServiceRole:\n    Type: AWS::IAM::Role\n    Properties:\n      AssumeRolePolicyDocument:\n        Version: '2012-10-17'\n        Statement:\n          - Effect: Allow\n            Principal:\n              Service: [codebuild.amazonaws.com]\n            Action: ['sts:AssumeRole']\n      Path: /\n      Policies:\n        - PolicyName: CodeBuildServiceRolePolicy\n          PolicyDocument:\n            Version: '2012-10-17'\n            Statement:\n              - Effect: Allow\n                Action: ['*']\n                Resource: ['*']\n```\n\nThis version of the template uses parameters instead of placeholders. You can provide the actual values for these parameters when you create or update the CloudFormation stack. The `BuildSpec` parameter should contain the buildspec file as a string.",
      "metadata": {
        "jupyter": {
          "outputs_hidden": false,
          "source_hidden": false
        },
        "noteable": {
          "cell_type": "markdown"
        }
      }
    },
    {
      "id": "8317236c-42cd-4510-ad3d-ad5bd0e6f601",
      "cell_type": "markdown",
      "source": "## BuildSpec for CodeBuild\n\nThe buildspec file specifies the commands that CodeBuild will run during the Build stage of our pipeline. In our case, we want it to install and run `cfn-lint` on the CloudFormation file to ensure it's valid.\n\nHere is what the buildspec file might look like:\n\n```yaml\nversion: 0.2\n\nphases:\n  install:\n    runtime-versions:\n      python: 3.8\n    commands:\n      - echo Installing cfn-lint...\n      - pip install cfn-lint\n\n  build:\n    commands:\n      - echo Running cfn-lint...\n      - cfn-lint template.yaml\n\nartifacts:\n  files:\n    - template.yaml\n```\n\nThis buildspec file will install `cfn-lint` and then run it on `template.yaml`, which is assumed to be the name of our CloudFormation file. If the linting process finds any issues with the CloudFormation file, it will output the issues and the build will fail.",
      "metadata": {
        "jupyter": {
          "outputs_hidden": false,
          "source_hidden": false
        },
        "noteable": {
          "cell_type": "markdown"
        }
      }
    },
    {
      "id": "4318295e-463e-4be8-b83c-46314bc36453",
      "cell_type": "markdown",
      "source": "## Updated BuildSpec for CodeBuild\n\nWe can update the buildspec file to check if a `requirements.txt` file is present and, if it is, use `pip install -r` to install any Python requirements. Here is what the updated buildspec file might look like:\n\n```yaml\nversion: 0.2\n\nphases:\n  install:\n    runtime-versions:\n      python: 3.8\n    commands:\n      - echo Installing cfn-lint...\n      - pip install cfn-lint\n      - if [ -f requirements.txt ]; then echo Installing Python requirements... && pip install -r requirements.txt; fi\n\n  build:\n    commands:\n      - echo Running cfn-lint...\n      - cfn-lint template.yaml\n\nartifacts:\n  files:\n    - template.yaml\n```\n\nThis updated buildspec file will check if a `requirements.txt` file is present and, if it is, install the Python requirements listed in the file. It will then run `cfn-lint` on `template.yaml` as before.",
      "metadata": {
        "jupyter": {
          "outputs_hidden": false,
          "source_hidden": false
        },
        "noteable": {
          "cell_type": "markdown"
        }
      }
    },
    {
      "id": "dabb8a34-8f41-4a49-b181-d1d3c3357f74",
      "cell_type": "markdown",
      "source": "## Further Updated BuildSpec for CodeBuild\n\nWe can further update the buildspec file to only run `cfn-lint` on `template.yaml` if `template.yaml` is present. Here is what the further updated buildspec file might look like:\n\n```yaml\nversion: 0.2\n\nphases:\n  install:\n    runtime-versions:\n      python: 3.8\n    commands:\n      - echo Installing cfn-lint...\n      - pip install cfn-lint\n      - if [ -f requirements.txt ]; then echo Installing Python requirements... && pip install -r requirements.txt; fi\n\n  build:\n    commands:\n      - if [ -f template.yaml ]; then echo Running cfn-lint... && cfn-lint template.yaml; fi\n\nartifacts:\n  files:\n    - template.yaml\n```\n\nThis further updated buildspec file will only run `cfn-lint` on `template.yaml` if `template.yaml` is present.",
      "metadata": {
        "jupyter": {
          "outputs_hidden": false,
          "source_hidden": false
        },
        "noteable": {
          "cell_type": "markdown"
        }
      }
    },
    {
      "id": "92b1ce4e-195b-4930-931c-a7dbf048d937",
      "cell_type": "markdown",
      "source": "## AWS Resource Naming Scheme\n\nWe will use a uniform naming scheme for AWS resources. This will make it easier to manage and identify resources. Here is the naming scheme we will use:\n\n- CodeBuild project: `github-backup-build`\n- CodePipeline: `github-backup-pipeline`\n- AWS Lambda function: `github-backup-lambda-function`\n- IAM role for the Lambda function: `github-backup-lambda-role`\n\nWe will use Boto3, AWS's Python SDK, to interact with these resources from our notebook.",
      "metadata": {
        "jupyter": {
          "outputs_hidden": false,
          "source_hidden": false
        },
        "noteable": {
          "cell_type": "markdown"
        }
      }
    },
    {
      "id": "8031df59-22a1-4f2b-b539-ef20d7a7bc74",
      "cell_type": "markdown",
      "source": "## Updated CodeBuild CloudFormation Template\n\nHere is the updated CodeBuild CloudFormation template using the new naming scheme:\n\n```yaml\nParameters:\n  BuildImage:\n    Type: String\n  BuildSpec:\n    Type: String\n\nResources:\n  GithubBackupBuild:\n    Type: AWS::CodeBuild::Project\n    Properties:\n      Name: github-backup-build\n      Source:\n        Type: CODEPIPELINE\n      Artifacts:\n        Type: CODEPIPELINE\n      Environment:\n        Type: LINUX_CONTAINER\n        ComputeType: BUILD_GENERAL1_SMALL\n        Image: !Ref BuildImage\n        EnvironmentVariables:\n          - Name: AWS_ACCOUNT_ID\n            Value: !Ref AWS::AccountId\n          - Name: AWS_REGION\n            Value: !Ref AWS::Region\n      ServiceRole: !GetAtt GithubBackupBuildServiceRole.Arn\n      BuildSpec: !Ref BuildSpec\n\n  GithubBackupBuildServiceRole:\n    Type: AWS::IAM::Role\n    Properties:\n      AssumeRolePolicyDocument:\n        Version: '2012-10-17'\n        Statement:\n          - Effect: Allow\n            Principal:\n              Service: [codebuild.amazonaws.com]\n            Action: ['sts:AssumeRole']\n      Path: /\n      Policies:\n        - PolicyName: GithubBackupBuildServiceRolePolicy\n          PolicyDocument:\n            Version: '2012-10-17'\n            Statement:\n              - Effect: Allow\n                Action: ['*']\n                Resource: ['*']\n```\n\nThis updated template uses the new naming scheme for the CodeBuild project and the associated IAM role.",
      "metadata": {
        "jupyter": {
          "outputs_hidden": false,
          "source_hidden": false
        },
        "noteable": {
          "cell_type": "markdown"
        }
      }
    },
    {
      "id": "6178a659-0840-43f3-a2f0-69468476065d",
      "cell_type": "markdown",
      "source": "## Lambda Function CloudFormation Template\n\nHere is a high-level overview of what the Lambda function CloudFormation template might look like:\n\n```yaml\nParameters:\n  LambdaFunctionName:\n    Type: String\n  LambdaHandler:\n    Type: String\n  LambdaRuntime:\n    Type: String\n  LambdaRole:\n    Type: String\n\nResources:\n  GithubBackupLambdaFunction:\n    Type: AWS::Lambda::Function\n    Properties:\n      FunctionName: !Ref LambdaFunctionName\n      Handler: !Ref LambdaHandler\n      Runtime: !Ref LambdaRuntime\n      Role: !Ref LambdaRole\n```\n\nThis version of the template uses parameters instead of placeholders. You can provide the actual values for these parameters when you create or update the CloudFormation stack.",
      "metadata": {
        "jupyter": {
          "outputs_hidden": false,
          "source_hidden": false
        },
        "noteable": {
          "cell_type": "markdown"
        }
      }
    },
    {
      "id": "1522aef8-d078-41c3-8571-2a6feececb75",
      "cell_type": "markdown",
      "source": "## Lambda Function CloudFormation Template\n\nHere is a high-level overview of what the Lambda function CloudFormation template might look like:\n\n```yaml\nParameters:\n  LambdaFunctionName:\n    Type: String\n  LambdaHandler:\n    Type: String\n  LambdaRuntime:\n    Type: String\n  LambdaRole:\n    Type: String\n\nResources:\n  GithubBackupLambdaFunction:\n    Type: AWS::Lambda::Function\n    Properties:\n      FunctionName: !Ref LambdaFunctionName\n      Handler: !Ref LambdaHandler\n      Runtime: !Ref LambdaRuntime\n      Role: !Ref LambdaRole\n```\n\nThis version of the template uses parameters instead of placeholders. You can provide the actual values for these parameters when you create or update the CloudFormation stack.",
      "metadata": {
        "jupyter": {
          "outputs_hidden": false,
          "source_hidden": false
        },
        "noteable": {
          "cell_type": "markdown"
        }
      }
    },
    {
      "id": "3e71c79c-d717-4ed1-85db-4aa41cd499ae",
      "cell_type": "markdown",
      "source": "## Thought Process for Project Implementation\n\n### Brainstorming\n\n- **Option 1:** Use AWS CloudFormation to create all the resources. This option would involve writing CloudFormation templates for each resource (CodeBuild, CodePipeline, Lambda function, etc.) and then using the AWS Management Console or AWS CLI to create a stack from these templates.\n- **Option 2:** Use AWS SDKs (like Boto3 for Python) to create and manage the resources. This option would involve writing Python scripts to create, update, and delete resources as needed.\n- **Option 3:** Use a combination of AWS CloudFormation and AWS SDKs. This option would involve using CloudFormation for resource creation and the SDKs for tasks that are more complex or not easily accomplished with CloudFormation alone.\n\n### Evaluation\n\n- **Option 1:** This option is straightforward and easy to manage, as all the resources are defined in one place (the CloudFormation templates). However, it might not be flexible enough for complex tasks, and it requires knowledge of the CloudFormation syntax and concepts.\n- **Option 2:** This option is very flexible and can handle complex tasks, but it requires more programming knowledge and might be harder to manage, especially if the number of resources is large.\n- **Option 3:** This option combines the advantages of the other two options. It uses CloudFormation for the easy management of resources and the SDKs for flexibility and complex tasks.\n\n### Expansion\n\nBased on the evaluation, Option 3 seems to be the best choice. We can use CloudFormation to define and create the resources, and then use the GitHub Python module and Boto3 to interact with the GitHub repository and the AWS resources, respectively.\n\n### Decision-Making\n\nWe will proceed with Option 3. The next steps are to create the CloudFormation templates for the resources, use the GitHub Python module to update the README.md file in the GitHub repository, and use Boto3 to create and manage the AWS resources.",
      "metadata": {
        "jupyter": {
          "outputs_hidden": false,
          "source_hidden": false
        },
        "noteable": {
          "cell_type": "markdown"
        }
      }
    },
    {
      "id": "8f5eaf9b-726e-4941-8e66-36fa728a1b48",
      "cell_type": "markdown",
      "source": "## Breaking Down the CodePipeline CloudFormation Template\n\nDue to computational time limitations, we'll break down the CodePipeline CloudFormation template into smaller, more manageable parts. We'll create separate templates for the pipeline, stages, and actions, and then combine them programmatically.\n\n### Pipeline Template\n\nThe pipeline template defines the basic structure of the pipeline, including its name and the IAM role it uses.\n\n```yaml\nParameters:\n  PipelineName:\n    Type: String\n\nResources:\n  GithubBackupPipeline:\n    Type: AWS::CodePipeline::Pipeline\n    Properties:\n      Name: !Ref PipelineName\n      RoleArn: !GetAtt GithubBackupPipelineRole.Arn\n```\n\n### Stages Template\n\nThe stages template defines the stages of the pipeline. Each stage has a name and a list of actions.\n\n```yaml\nStages:\n  - Name: Source\n    Actions: []\n  - Name: Build\n    Actions: []\n  - Name: Deploy\n    Actions: []\n```\n\n### Actions Template\n\nThe actions template defines the actions that occur in each stage. Each action has a name, a type, and configuration details.\n\n```yaml\nActions:\n  - Name: GitHub_Source\n    ActionTypeId:\n      Category: Source\n      Owner: ThirdParty\n      Provider: GitHub\n      Version: 1\n    OutputArtifacts:\n      - Name: SourceOutput\n    Configuration:\n      Owner: !Ref GitHubOwner\n      Repo: !Ref GitHubRepo\n      Branch: !Ref GitHubBranch\n      OAuthToken: !Ref GitHubToken\n```\n\nWe can create these templates separately and then combine them programmatically using Python.",
      "metadata": {
        "jupyter": {
          "outputs_hidden": false,
          "source_hidden": false
        },
        "noteable": {
          "cell_type": "markdown"
        }
      }
    },
    {
      "id": "029d9171-9a94-4772-9d08-4e42aad87750",
      "cell_type": "code",
      "metadata": {
        "jupyter": {
          "outputs_hidden": false,
          "source_hidden": false
        },
        "noteable": {
          "cell_type": "code",
          "output_collection_id": "53efc309-b06d-429f-94be-18e12a2772de"
        },
        "ExecuteTime": {
          "end_time": "2023-05-26T19:49:59.985791+00:00",
          "start_time": "2023-05-26T19:49:59.812224+00:00"
        }
      },
      "execution_count": null,
      "source": "# Define the base templates\n\npipeline_template = {\n  'Parameters': {\n    'PipelineName': {\n      'Type': 'String'\n    }\n  },\n  'Resources': {\n    'GithubBackupPipeline': {\n      'Type': 'AWS::CodePipeline::Pipeline',\n      'Properties': {\n        'Name': {'Ref': 'PipelineName'},\n        'RoleArn': {'Fn::GetAtt': ['GithubBackupPipelineRole', 'Arn']}\n      }\n    }\n  }\n}\n\nstages_template = {\n  'Stages': [\n    {'Name': 'Source', 'Actions': []},\n    {'Name': 'Build', 'Actions': []},\n    {'Name': 'Deploy', 'Actions': []}\n  ]\n}\n\nactions_template = {\n  'Actions': [\n    {\n      'Name': 'GitHub_Source',\n      'ActionTypeId': {\n        'Category': 'Source',\n        'Owner': 'ThirdParty',\n        'Provider': 'GitHub',\n        'Version': '1'\n      },\n      'OutputArtifacts': [\n        {'Name': 'SourceOutput'}\n      ],\n      'Configuration': {\n        'Owner': {'Ref': 'GitHubOwner'},\n        'Repo': {'Ref': 'GitHubRepo'},\n        'Branch': {'Ref': 'GitHubBranch'},\n        'OAuthToken': {'Ref': 'GitHubToken'}\n      }\n    }\n  ]\n}\n\n# Combine the templates\n\ncombined_template = {**pipeline_template, **stages_template, **actions_template}\n\ncombined_template",
      "outputs": []
    },
    {
      "id": "632c7c9c-cf34-42ed-b0a9-6a6286b1e027",
      "cell_type": "code",
      "metadata": {
        "jupyter": {
          "outputs_hidden": false,
          "source_hidden": false
        },
        "noteable": {
          "cell_type": "code",
          "output_collection_id": "816d83ed-6d34-4740-948c-7afba746ef49"
        },
        "ExecuteTime": {
          "end_time": "2023-05-26T19:52:08.792169+00:00",
          "start_time": "2023-05-26T19:52:08.625639+00:00"
        }
      },
      "execution_count": null,
      "source": "# Define the actions for each stage\n\nsource_action = {\n  'Name': 'GitHub_Source',\n  'ActionTypeId': {\n    'Category': 'Source',\n    'Owner': 'ThirdParty',\n    'Provider': 'GitHub',\n    'Version': '1'\n  },\n  'OutputArtifacts': [\n    {'Name': 'SourceOutput'}\n  ],\n  'Configuration': {\n    'Owner': {'Ref': 'GitHubOwner'},\n    'Repo': {'Ref': 'GitHubRepo'},\n    'Branch': {'Ref': 'GitHubBranch'},\n    'OAuthToken': {'Ref': 'GitHubToken'}\n  }\n}\n\nbuild_action = {\n  'Name': 'CodeBuild_Build',\n  'ActionTypeId': {\n    'Category': 'Build',\n    'Owner': 'AWS',\n    'Provider': 'CodeBuild',\n    'Version': '1'\n  },\n  'InputArtifacts': [\n    {'Name': 'SourceOutput'}\n  ],\n  'Configuration': {\n    'ProjectName': {'Ref': 'CodeBuildProjectName'}\n  }\n}\n\ndeploy_action = {\n  'Name': 'Lambda_Deploy',\n  'ActionTypeId': {\n    'Category': 'Invoke',\n    'Owner': 'AWS',\n    'Provider': 'Lambda',\n    'Version': '1'\n  },\n  'Configuration': {\n    'FunctionName': {'Ref': 'LambdaFunctionName'}\n  }\n}\n\n# Add the actions to the stages\n\ncombined_template['Stages'][0]['Actions'].append(source_action)\ncombined_template['Stages'][1]['Actions'].append(build_action)\ncombined_template['Stages'][2]['Actions'].append(deploy_action)\n\ncombined_template",
      "outputs": []
    },
    {
      "id": "f0037f02-c13d-4266-a93b-8ff99ba8fa92",
      "cell_type": "code",
      "metadata": {
        "jupyter": {
          "outputs_hidden": false,
          "source_hidden": false
        },
        "noteable": {
          "cell_type": "code",
          "output_collection_id": "6bcc6ee4-6aba-4a47-8a3e-9593ee7b1b06"
        },
        "ExecuteTime": {
          "end_time": "2023-05-26T19:55:39.288976+00:00",
          "start_time": "2023-05-26T19:55:39.123705+00:00"
        }
      },
      "execution_count": null,
      "source": "import json\nimport yaml\n\n# Convert the combined template to JSON\njson_template = json.dumps(combined_template, indent=2)\n\n# Convert the combined template to YAML\nyaml_template = yaml.dump(combined_template, default_flow_style=False)\n\njson_template, yaml_template",
      "outputs": []
    },
    {
      "id": "e966fee4-4ce2-447a-93c5-dfb24600a562",
      "cell_type": "code",
      "metadata": {
        "jupyter": {
          "outputs_hidden": false,
          "source_hidden": false
        },
        "noteable": {
          "cell_type": "code",
          "output_collection_id": "74b90cf1-9b4b-4722-bc00-c323233c1ee9"
        },
        "ExecuteTime": {
          "end_time": "2023-05-26T19:59:15.030446+00:00",
          "start_time": "2023-05-26T19:59:13.666683+00:00"
        }
      },
      "execution_count": null,
      "source": "import boto3\n\n# Initialize the CloudFormation client\ncf = boto3.client('cloudformation')\n\n# Create a CloudFormation stack\nresponse = cf.create_stack(\n  StackName='GithubBackupPipeline',\n  TemplateBody=json_template,\n  Parameters=[\n    {\n      'ParameterKey': 'PipelineName',\n      'ParameterValue': 'GithubBackupPipeline'\n    }\n  ],\n  Capabilities=['CAPABILITY_NAMED_IAM']\n)\n\nresponse",
      "outputs": []
    },
    {
      "id": "34c0f05c-e0ed-45f7-a9eb-8c68e2c7fb9d",
      "cell_type": "code",
      "metadata": {
        "jupyter": {
          "outputs_hidden": false,
          "source_hidden": false
        },
        "noteable": {
          "cell_type": "code",
          "output_collection_id": "0b140579-409d-4d4b-a95c-70db67a65dd6"
        },
        "ExecuteTime": {
          "end_time": "2023-05-26T19:59:51.843736+00:00",
          "start_time": "2023-05-26T19:59:51.312568+00:00"
        }
      },
      "execution_count": null,
      "source": "import os\n\n# Get the AWS region from the environment variables\naws_region = os.environ['AWS_REGION']\n\n# Initialize the CloudFormation client with the specified region\ncf = boto3.client('cloudformation', region_name=aws_region)\n\n# Create a CloudFormation stack\nresponse = cf.create_stack(\n  StackName='GithubBackupPipeline',\n  TemplateBody=json_template,\n  Parameters=[\n    {\n      'ParameterKey': 'PipelineName',\n      'ParameterValue': 'GithubBackupPipeline'\n    }\n  ],\n  Capabilities=['CAPABILITY_NAMED_IAM']\n)\n\nresponse",
      "outputs": []
    },
    {
      "id": "5bed5c64-630d-4bde-836e-199e89fe915c",
      "cell_type": "code",
      "metadata": {
        "jupyter": {
          "outputs_hidden": false,
          "source_hidden": false
        },
        "noteable": {
          "cell_type": "code",
          "output_collection_id": "577d550f-4a47-4212-9e6a-c4ed9b5b80a5"
        },
        "ExecuteTime": {
          "end_time": "2023-05-26T20:00:33.924826+00:00",
          "start_time": "2023-05-26T20:00:33.525470+00:00"
        }
      },
      "execution_count": null,
      "source": "# Correct the structure of the combined template\n\ncombined_template['Resources']['GithubBackupPipeline']['Properties']['Stages'] = combined_template.pop('Stages')\n\n# Convert the corrected template to JSON\njson_template = json.dumps(combined_template, indent=2)\n\n# Create a CloudFormation stack with the corrected template\nresponse = cf.create_stack(\n  StackName='GithubBackupPipeline',\n  TemplateBody=json_template,\n  Parameters=[\n    {\n      'ParameterKey': 'PipelineName',\n      'ParameterValue': 'GithubBackupPipeline'\n    }\n  ],\n  Capabilities=['CAPABILITY_NAMED_IAM']\n)\n\nresponse",
      "outputs": []
    },
    {
      "id": "d9892eb5-938e-4e80-bf57-614f83e9feab",
      "cell_type": "code",
      "metadata": {
        "jupyter": {
          "outputs_hidden": false,
          "source_hidden": false
        },
        "noteable": {
          "cell_type": "code",
          "output_collection_id": "dc374fe8-aca0-4838-8d5a-4f5284bbdf30"
        },
        "ExecuteTime": {
          "end_time": "2023-05-26T20:01:13.898681+00:00",
          "start_time": "2023-05-26T20:01:13.499248+00:00"
        }
      },
      "execution_count": null,
      "source": "# Remove the 'Actions' property from the top level of the template\ncombined_template.pop('Actions', None)\n\n# Convert the corrected template to JSON\njson_template = json.dumps(combined_template, indent=2)\n\n# Create a CloudFormation stack with the corrected template\nresponse = cf.create_stack(\n  StackName='GithubBackupPipeline',\n  TemplateBody=json_template,\n  Parameters=[\n    {\n      'ParameterKey': 'PipelineName',\n      'ParameterValue': 'GithubBackupPipeline'\n    }\n  ],\n  Capabilities=['CAPABILITY_NAMED_IAM']\n)\n\nresponse",
      "outputs": []
    },
    {
      "id": "99927bef-12e9-40a7-bfa3-8c3abcfb0f63",
      "cell_type": "code",
      "metadata": {
        "jupyter": {
          "outputs_hidden": false,
          "source_hidden": false
        },
        "noteable": {
          "cell_type": "code",
          "output_collection_id": "bd6333e2-5306-4235-affe-cf03cd723eac"
        },
        "ExecuteTime": {
          "end_time": "2023-05-26T20:02:19.816664+00:00",
          "start_time": "2023-05-26T20:02:19.401857+00:00"
        }
      },
      "execution_count": null,
      "source": "# Define the 'GithubBackupPipelineRole' resource\ncombined_template['Resources']['GithubBackupPipelineRole'] = {\n  'Type': 'AWS::IAM::Role',\n  'Properties': {\n    'AssumeRolePolicyDocument': {\n      'Version': '2012-10-17',\n      'Statement': [\n        {\n          'Effect': 'Allow',\n          'Principal': {'Service': 'codepipeline.amazonaws.com'},\n          'Action': 'sts:AssumeRole'\n        }\n      ]\n    },\n    'ManagedPolicyArns': [\n      'arn:aws:iam::aws:policy/AmazonS3FullAccess',\n      'arn:aws:iam::aws:policy/AWSCodeBuildAdminAccess',\n      'arn:aws:iam::aws:policy/AWSCodePipelineFullAccess',\n      'arn:aws:iam::aws:policy/AWSLambda_FullAccess'\n    ]\n  }\n}\n\n# Convert the corrected template to JSON\njson_template = json.dumps(combined_template, indent=2)\n\n# Create a CloudFormation stack with the corrected template\nresponse = cf.create_stack(\n  StackName='GithubBackupPipeline',\n  TemplateBody=json_template,\n  Parameters=[\n    {\n      'ParameterKey': 'PipelineName',\n      'ParameterValue': 'GithubBackupPipeline'\n    }\n  ],\n  Capabilities=['CAPABILITY_NAMED_IAM']\n)\n\nresponse",
      "outputs": []
    },
    {
      "id": "520283e7-1e13-43ef-b3c0-6f4e240aea02",
      "cell_type": "code",
      "metadata": {
        "jupyter": {
          "outputs_hidden": false,
          "source_hidden": false
        },
        "noteable": {
          "cell_type": "code",
          "output_collection_id": "a77eebbf-5317-4cf8-96d7-d3ab0c134759"
        },
        "ExecuteTime": {
          "end_time": "2023-05-26T20:03:20.794275+00:00",
          "start_time": "2023-05-26T20:03:20.345460+00:00"
        }
      },
      "execution_count": null,
      "source": "# Initialize the SSM client\nssm = boto3.client('ssm', region_name=aws_region)\n\n# Retrieve the GitHub token from the SSM parameter store\ngithub_token = ssm.get_parameter(Name='/api/github', WithDecryption=True)['Parameter']['Value']\n\n# Define the parameters for the CloudFormation stack\nparameters = [\n  {'ParameterKey': 'PipelineName', 'ParameterValue': 'GithubBackupPipeline'},\n  {'ParameterKey': 'CodeBuildProjectName', 'ParameterValue': 'github-backup-build'},\n  {'ParameterKey': 'GitHubOwner', 'ParameterValue': 'matthewhand'},\n  {'ParameterKey': 'LambdaFunctionName', 'ParameterValue': 'github-backup-lambda-function'},\n  {'ParameterKey': 'GitHubBranch', 'ParameterValue': 'main'},\n  {'ParameterKey': 'GitHubToken', 'ParameterValue': github_token},\n  {'ParameterKey': 'GitHubRepo', 'ParameterValue': 'github-backup'}\n]\n\n# Create a CloudFormation stack with the corrected template and the defined parameters\nresponse = cf.create_stack(\n  StackName='GithubBackupPipeline',\n  TemplateBody=json_template,\n  Parameters=parameters,\n  Capabilities=['CAPABILITY_NAMED_IAM']\n)\n\nresponse",
      "outputs": []
    },
    {
      "id": "193300b6-2459-4c11-a1b1-2b5a255b7b5e",
      "cell_type": "code",
      "metadata": {
        "jupyter": {
          "outputs_hidden": false,
          "source_hidden": false
        },
        "noteable": {
          "cell_type": "code",
          "output_collection_id": "fdae151b-61c3-4126-9589-f9193b66a2df"
        },
        "ExecuteTime": {
          "end_time": "2023-05-26T20:05:09.052923+00:00",
          "start_time": "2023-05-26T20:05:08.654979+00:00"
        }
      },
      "execution_count": null,
      "source": "# Define the parameters in the CloudFormation template\ncombined_template['Parameters'] = {\n  'CodeBuildProjectName': {\n    'Type': 'String',\n    'Description': 'The name of the CodeBuild project'\n  },\n  'GitHubOwner': {\n    'Type': 'String',\n    'Description': 'The owner of the GitHub repository'\n  },\n  'LambdaFunctionName': {\n    'Type': 'String',\n    'Description': 'The name of the Lambda function'\n  },\n  'GitHubBranch': {\n    'Type': 'String',\n    'Description': 'The branch of the GitHub repository'\n  },\n  'GitHubToken': {\n    'Type': 'String',\n    'Description': 'The GitHub token for accessing the repository'\n  },\n  'GitHubRepo': {\n    'Type': 'String',\n    'Description': 'The name of the GitHub repository'\n  }\n}\n\n# Convert the corrected template to JSON\njson_template = json.dumps(combined_template, indent=2)\n\n# Create a CloudFormation stack with the corrected template and the defined parameters\nresponse = cf.create_stack(\n  StackName='GithubBackupPipeline',\n  TemplateBody=json_template,\n  Parameters=parameters,\n  Capabilities=['CAPABILITY_NAMED_IAM']\n)\n\nresponse",
      "outputs": []
    },
    {
      "id": "1d3854cb-8409-4c52-a84b-9baaa1577d07",
      "cell_type": "code",
      "metadata": {
        "jupyter": {
          "outputs_hidden": false,
          "source_hidden": false
        },
        "noteable": {
          "cell_type": "code",
          "output_collection_id": "1b82ceee-3b0e-4a5c-a3ea-084d3fae57a5"
        },
        "ExecuteTime": {
          "end_time": "2023-05-26T20:05:46.216203+00:00",
          "start_time": "2023-05-26T20:05:45.630678+00:00"
        }
      },
      "execution_count": null,
      "source": "# Add the 'PipelineName' parameter to the CloudFormation template\ncombined_template['Parameters']['PipelineName'] = {\n  'Type': 'String',\n  'Description': 'The name of the CodePipeline'\n}\n\n# Convert the corrected template to JSON\njson_template = json.dumps(combined_template, indent=2)\n\n# Create a CloudFormation stack with the corrected template and the defined parameters\nresponse = cf.create_stack(\n  StackName='GithubBackupPipeline',\n  TemplateBody=json_template,\n  Parameters=parameters,\n  Capabilities=['CAPABILITY_NAMED_IAM']\n)\n\nresponse",
      "outputs": []
    },
    {
      "id": "c310029a-4da2-4fdb-9dc8-ff9301a31032",
      "cell_type": "code",
      "metadata": {
        "jupyter": {
          "outputs_hidden": false,
          "source_hidden": false
        },
        "noteable": {
          "cell_type": "code",
          "output_collection_id": "a68576a5-acfb-4fe7-8322-10739e44a757"
        },
        "ExecuteTime": {
          "end_time": "2023-05-26T20:07:57.745436+00:00",
          "start_time": "2023-05-26T20:07:57.441149+00:00"
        }
      },
      "execution_count": null,
      "source": "# Update the 'GitHubToken' parameter in the CloudFormation template\ncombined_template['Parameters']['GitHubToken'] = {\n  'Type': 'AWS::SSM::Parameter::Value<String>',\n  'Default': '/api/github',\n  'Description': 'GitHub Token stored in SSM Parameter Store'\n}\n\n# Convert the corrected template to JSON\njson_template = json.dumps(combined_template, indent=2)\n\n# Create a CloudFormation stack with the corrected template and the defined parameters\nresponse = cf.create_stack(\n  StackName='GithubBackupPipeline',\n  TemplateBody=json_template,\n  Parameters=parameters,\n  Capabilities=['CAPABILITY_NAMED_IAM']\n)\n\nresponse",
      "outputs": []
    },
    {
      "id": "461e0e52-a22c-4235-9a87-14e87bb9e393",
      "cell_type": "code",
      "metadata": {
        "jupyter": {
          "outputs_hidden": false,
          "source_hidden": false
        },
        "noteable": {
          "cell_type": "code",
          "output_collection_id": "918e0470-397c-43ff-a80f-51f8b5cf1f92"
        },
        "ExecuteTime": {
          "end_time": "2023-05-26T22:26:09.620717+00:00",
          "start_time": "2023-05-26T22:26:09.000398+00:00"
        }
      },
      "execution_count": null,
      "source": "# Update the 'GithubBackupPipelineRole' resource to remove the AWSCodePipelineFullAccess policy\ncombined_template['Resources']['GithubBackupPipelineRole']['Properties']['ManagedPolicyArns'] = [\n  'arn:aws:iam::aws:policy/AmazonS3FullAccess',\n  'arn:aws:iam::aws:policy/AWSCodeBuildAdminAccess',\n  'arn:aws:iam::aws:policy/AWSLambda_FullAccess'\n]\n\n# Convert the corrected template to JSON\njson_template = json.dumps(combined_template, indent=2)\n\n# Create a CloudFormation stack with the corrected template and the defined parameters\nresponse = cf.create_stack(\n  StackName='GithubBackupPipeline',\n  TemplateBody=json_template,\n  Parameters=parameters,\n  Capabilities=['CAPABILITY_NAMED_IAM']\n)\n\nresponse",
      "outputs": []
    }
  ]
}